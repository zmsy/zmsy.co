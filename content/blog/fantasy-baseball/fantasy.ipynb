{
 "cells": [
  {
   "cell_type": "markdown",
   "metadata": {},
   "source": [
    "# Fantasy Baseball Pandas Analysis\n",
    "\n",
    "This takes a number of inputs and produces fantasy scores for each player."
   ]
  },
  {
   "cell_type": "code",
   "execution_count": 175,
   "metadata": {},
   "outputs": [],
   "source": [
    "import requests\n",
    "import csv\n",
    "import datetime\n",
    "import subprocess\n",
    "import pandas as pd\n",
    "import numpy as np\n",
    "import seaborn as sb\n",
    "from bs4 import BeautifulSoup"
   ]
  },
  {
   "cell_type": "markdown",
   "metadata": {},
   "source": [
    "## Get Roster Data\n",
    "\n",
    "This will rip the roster information from ESPN and save it to a local CSV file."
   ]
  },
  {
   "cell_type": "code",
   "execution_count": 125,
   "metadata": {},
   "outputs": [],
   "source": [
    "LEAGUE_URL = \"http://games.espn.com/flb/leaguerosters?leagueId={league_id}\"\n",
    "LEAGUE_ID = 15594\n",
    "\n",
    "# translate ESPN names to Fangraphs names.\n",
    "# Add new names as required, since name is used to join the data sets.\n",
    "TRANSLATIONS = {\n",
    "    'Nicky Delmonico': 'Nick Delmonico',\n",
    "    'Yuli Gurriel': 'Yulieski Gurriel'\n",
    "}\n",
    "\n",
    "\n",
    "rosters_html = requests.get(LEAGUE_URL.format(league_id=LEAGUE_ID)).text\n",
    "rosters_soup = BeautifulSoup(rosters_html, \"lxml\")\n",
    "\n",
    "rosters = rosters_soup.find_all(\"table\", {'class': 'playerTableTable'})\n",
    "\n",
    "players = []\n",
    "for roster in rosters:\n",
    "    team_name = roster.find(\"a\").text\n",
    "    players_html = roster.find_all(\"td\", {'class': 'playertablePlayerName'})\n",
    "    for player in players_html:\n",
    "        # parse player info\n",
    "        player_name = player.text.split(\",\")[0]\n",
    "        player_name = player_name.replace(\"*\", \"\")\n",
    "\n",
    "        # translate player name if necessary\n",
    "        translation = TRANSLATIONS.get(player_name)\n",
    "        if translation:\n",
    "            player_name = translation\n",
    "\n",
    "        # add to output list\n",
    "        players.append([player_name, team_name])\n",
    "\n",
    "with open(\"rosters.csv\", \"w\", newline='') as out_file:\n",
    "    writer = csv.writer(out_file)\n",
    "    writer.writerow((\"Name\", \"Squad\"))\n",
    "    writer.writerows(players)"
   ]
  },
  {
   "cell_type": "markdown",
   "metadata": {},
   "source": [
    "## Get and Parse Actuals\n",
    "\n",
    "Looks through the URLs to grab batting & pitching actuals and deliver those back to the user."
   ]
  },
  {
   "cell_type": "code",
   "execution_count": 166,
   "metadata": {},
   "outputs": [],
   "source": [
    "# static urls\n",
    "season = datetime.datetime.now().year\n",
    "PITCHERS_URL = \"https://www.fangraphs.com/leaders.aspx?pos=all&stats=pit&lg=all&qual=0&type=c,36,37,38,40,-1,120,121,217,-1,24,41,42,43,44,-1,117,118,119,-1,6,45,124,-1,62,122,13&season={season}&month=0&season1={season}&ind=0&team=0&rost=0&age=0&filter=&players=0&page=1_100000\".format(season=season)\n",
    "BATTERS_URL = \"https://www.fangraphs.com/leaders.aspx?pos=all&stats=bat&lg=all&qual=0&type=8&season={season}&month=0&season1={season}&ind=0&team=0&rost=0&age=0&filter=&players=0&page=1_10000\".format(season=season)\n",
    "\n",
    "# # request the data\n",
    "pitchers_html = requests.get(PITCHERS_URL).text\n",
    "batters_html = requests.get(BATTERS_URL).text"
   ]
  },
  {
   "cell_type": "markdown",
   "metadata": {},
   "source": [
    "Now take the requests and parse out the relevant header information for each of the positions. This function will take one of the fangraphs pages as input and write out a CSV of that information once it's parsed."
   ]
  },
  {
   "cell_type": "code",
   "execution_count": 168,
   "metadata": {},
   "outputs": [],
   "source": [
    "def parse_array_from_fangraphs_html(input_html, out_file_name):\n",
    "    \"\"\"\n",
    "    Take a HTML stats page from fangraphs and parse it out to a CSV file.\n",
    "    \"\"\"\n",
    "    # parse input\n",
    "    soup = BeautifulSoup(input_html, \"lxml\")\n",
    "    table = soup.find(\"table\", {\"class\": \"rgMasterTable\"})\n",
    "    \n",
    "    # get headers\n",
    "    headers_html = table.find(\"thead\").find_all(\"th\")\n",
    "    headers = []\n",
    "    for header in headers_html:\n",
    "        headers.append(header.text)\n",
    "    \n",
    "    # get rows\n",
    "    rows = []\n",
    "    rows_html = table.find(\"tbody\").find_all(\"tr\")\n",
    "    for row in rows_html:\n",
    "        row_data = []\n",
    "        for cell in row.find_all(\"td\"):\n",
    "            row_data.append(cell.text)\n",
    "        rows.append(row_data)\n",
    "    \n",
    "    # write to CSV file\n",
    "    with open(out_file_name, \"w\") as out_file:\n",
    "        writer = csv.writer(out_file)\n",
    "        writer.writerow(headers)\n",
    "        writer.writerows(rows)"
   ]
  },
  {
   "cell_type": "markdown",
   "metadata": {},
   "source": [
    "Now that we have all of the player data, I'm writing these out to a CSV file if I want to load them again later without having to run the requests to those pages once more."
   ]
  },
  {
   "cell_type": "code",
   "execution_count": 169,
   "metadata": {},
   "outputs": [],
   "source": [
    "parse_array_from_fangraphs_html(batters_html, 'batters_actuals.csv')\n",
    "parse_array_from_fangraphs_html(pitchers_html, 'pitchers_actuals.csv')"
   ]
  },
  {
   "cell_type": "markdown",
   "metadata": {},
   "source": [
    "## Get Projections\n",
    "\n",
    "For this part, we need to call some external bash code here, because the form data is too big to reasonably bring into the script here. Check out the [original blog post](https://zmsy.co/blog/fantasy-baseball/) on how to configure this for your own purposes."
   ]
  },
  {
   "cell_type": "code",
   "execution_count": 124,
   "metadata": {},
   "outputs": [
    {
     "data": {
      "text/plain": [
       "0"
      ]
     },
     "execution_count": 124,
     "metadata": {},
     "output_type": "execute_result"
    }
   ],
   "source": [
    "subprocess.call('./get_fangraphs.sh', shell=True)"
   ]
  },
  {
   "cell_type": "markdown",
   "metadata": {},
   "source": [
    "## Read Data Into Pandas\n",
    "\n",
    "Load those CSV files using read_csv() in pandas. Since some of the percentage values are stored as strings, we need to parse those into floats."
   ]
  },
  {
   "cell_type": "code",
   "execution_count": 170,
   "metadata": {},
   "outputs": [],
   "source": [
    "df_rost = pd.read_csv('rosters.csv')\n",
    "dfb_act = pd.read_csv('batters_actuals.csv')\n",
    "dfp_act = pd.read_csv('pitchers_actuals.csv')\n",
    "\n",
    "# create a function to parse out percentage strings to floats\n",
    "def parse_pctg(value):\n",
    "    return float(value.split()[0]) / 100\n",
    "\n",
    "# apply that to all percentage values in the dataframes\n",
    "dfb_act['BB%'] = dfb_act['BB%'].apply(lambda x: parse_pctg(x))\n",
    "dfb_act['K%'] = dfb_act['K%'].apply(lambda x: parse_pctg(x))\n",
    "dfp_act['K%'] = dfp_act['K%'].apply(lambda x: parse_pctg(x))\n",
    "dfp_act['BB%'] = dfp_act['BB%'].apply(lambda x: parse_pctg(x))\n",
    "dfp_act['K-BB%'] = dfp_act['K-BB%'].apply(lambda x: parse_pctg(x))\n",
    "dfp_act['LOB%'] = dfp_act['LOB%'].apply(lambda x: parse_pctg(x))"
   ]
  },
  {
   "cell_type": "code",
   "execution_count": 172,
   "metadata": {},
   "outputs": [],
   "source": [
    "with open('batters_projections.html', 'r') as bhtml:\n",
    "    btxt = bhtml.read()\n",
    "    dfb_proj = pd.read_html(btxt)[-1]  # read_html returns ALL tables, we just want the last one.\n",
    "    dfb_proj.dropna(axis=1, inplace=True)\n",
    "\n",
    "with open('pitchers_projections.html', 'r') as phtml:\n",
    "    ptxt = phtml.read()\n",
    "    dfp_proj = pd.read_html(ptxt)[-1]\n",
    "    dfp_proj.dropna(axis=1, inplace=True)"
   ]
  },
  {
   "cell_type": "code",
   "execution_count": 239,
   "metadata": {},
   "outputs": [],
   "source": [
    "# join the datasets together. we want one\n",
    "# for batters and one for pitchers, with\n",
    "# roster information in both of them.\n",
    "\n",
    "dfb = pd.merge(dfb_proj, df_rost, how='left', on='Name', suffixes=('.p', '.r'))\n",
    "dfb = pd.merge(dfb, dfb_act, how='left', on='Name', suffixes=('', '.a'))\n",
    "\n",
    "dfp = pd.merge(dfp_proj, df_rost, how='left', on='Name', suffixes=('.p', '.r'))\n",
    "dfp = pd.merge(dfp, dfp_act, how='left', on='Name', suffixes=('', '.a'))"
   ]
  },
  {
   "cell_type": "code",
   "execution_count": 285,
   "metadata": {},
   "outputs": [],
   "source": [
    "# apply some filters so we can get rid of players who won't play.\n",
    "# minimum plate appearances or innings pitched\n",
    "\n",
    "dfb = dfb[dfb['PA'] > 100]\n",
    "dfp = dfp[dfp['IP'] > 20]\n",
    "\n",
    "# add in league information\n",
    "LEAGUES = {\n",
    "    'Angels': 'AL',\n",
    "    'Astros': 'AL',\n",
    "    'Athletics': 'AL',\n",
    "    'Blue Jays': 'AL',\n",
    "    'Braves': 'NL',\n",
    "    'Brewers': 'NL',\n",
    "    'Cardinals': 'NL',\n",
    "    'Cubs': 'NL',\n",
    "    'Diamondbacks': 'NL',\n",
    "    'Dodgers': 'NL',\n",
    "    'Giants': 'NL',\n",
    "    'Indians': 'AL',\n",
    "    'Mariners': 'AL',\n",
    "    'Marlins': 'NL',\n",
    "    'Mets': 'NL',\n",
    "    'Nationals': 'NL',\n",
    "    'Orioles': 'AL',\n",
    "    'Padres': 'NL',\n",
    "    'Phillies': 'NL',\n",
    "    'Pirates': 'NL',\n",
    "    'Rangers': 'AL',\n",
    "    'Rays': 'AL',\n",
    "    'Red Sox': 'AL',\n",
    "    'Reds': 'NL',\n",
    "    'Rockies': 'NL',\n",
    "    'Royals': 'AL',\n",
    "    'Tigers': 'AL',\n",
    "    'Twins': 'AL',\n",
    "    'White Sox': 'AL',\n",
    "    'Yankees': 'AL'\n",
    "}\n",
    "\n",
    "def league(x):\n",
    "    return LEAGUES.get(x)\n",
    "\n",
    "dfb['League'] = dfb['Team'].apply(lambda x: league(x))"
   ]
  },
  {
   "cell_type": "code",
   "execution_count": 243,
   "metadata": {
    "collapsed": true
   },
   "outputs": [
    {
     "data": {
      "text/plain": [
       "<seaborn.axisgrid.FacetGrid at 0x11ef935f8>"
      ]
     },
     "execution_count": 243,
     "metadata": {},
     "output_type": "execute_result"
    },
    {
     "data": {
      "image/png": "[encoded data removed]",
      "text/plain": [
       "<matplotlib.figure.Figure at 0x11ef93e10>"
      ]
     },
     "metadata": {},
     "output_type": "display_data"
    }
   ],
   "source": [
    "sb.lmplot(x='OBP',\n",
    "          y='OBP.a',\n",
    "          fit_reg=False,\n",
    "          legend=False,\n",
    "          data=dfb[(dfb['AB'] > 200) & (dfb['OBP.a'] > 0.1)])"
   ]
  },
  {
   "cell_type": "code",
   "execution_count": 286,
   "metadata": {},
   "outputs": [
    {
     "data": {
      "text/html": [
       "<div>\n",
       "<table border=\"1\" class=\"dataframe\">\n",
       "  <thead>\n",
       "    <tr style=\"text-align: right;\">\n",
       "      <th></th>\n",
       "      <th>Name</th>\n",
       "      <th>G</th>\n",
       "      <th>PA</th>\n",
       "      <th>AB</th>\n",
       "      <th>H</th>\n",
       "      <th>2B</th>\n",
       "      <th>3B</th>\n",
       "      <th>HR</th>\n",
       "      <th>R</th>\n",
       "      <th>RBI</th>\n",
       "      <th>BB</th>\n",
       "      <th>SO</th>\n",
       "      <th>HBP</th>\n",
       "      <th>SB</th>\n",
       "      <th>CS</th>\n",
       "      <th>AVG</th>\n",
       "      <th>OBP</th>\n",
       "      <th>SLG</th>\n",
       "      <th>OPS</th>\n",
       "      <th>wOBA</th>\n",
       "      <th>Fld</th>\n",
       "      <th>BsR</th>\n",
       "      <th>WAR</th>\n",
       "      <th>ADP</th>\n",
       "      <th>Squad</th>\n",
       "      <th>#</th>\n",
       "      <th>Team</th>\n",
       "      <th>G.a</th>\n",
       "      <th>PA.a</th>\n",
       "      <th>HR.a</th>\n",
       "      <th>R.a</th>\n",
       "      <th>RBI.a</th>\n",
       "      <th>SB.a</th>\n",
       "      <th>BB%</th>\n",
       "      <th>K%</th>\n",
       "      <th>ISO</th>\n",
       "      <th>BABIP</th>\n",
       "      <th>AVG.a</th>\n",
       "      <th>OBP.a</th>\n",
       "      <th>SLG.a</th>\n",
       "      <th>wOBA.a</th>\n",
       "      <th>wRC+</th>\n",
       "      <th>BsR.a</th>\n",
       "      <th>Off</th>\n",
       "      <th>Def</th>\n",
       "      <th>WAR.a</th>\n",
       "      <th>Drafted</th>\n",
       "      <th>League</th>\n",
       "    </tr>\n",
       "  </thead>\n",
       "  <tbody>\n",
       "    <tr>\n",
       "      <th>0</th>\n",
       "      <td>Mike Trout</td>\n",
       "      <td>81</td>\n",
       "      <td>342</td>\n",
       "      <td>273</td>\n",
       "      <td>83</td>\n",
       "      <td>16</td>\n",
       "      <td>3</td>\n",
       "      <td>21</td>\n",
       "      <td>61</td>\n",
       "      <td>53</td>\n",
       "      <td>61</td>\n",
       "      <td>69</td>\n",
       "      <td>5</td>\n",
       "      <td>12</td>\n",
       "      <td>3</td>\n",
       "      <td>0.303</td>\n",
       "      <td>0.436</td>\n",
       "      <td>0.609</td>\n",
       "      <td>1.045</td>\n",
       "      <td>0.430</td>\n",
       "      <td>0.0</td>\n",
       "      <td>1.8</td>\n",
       "      <td>4.7</td>\n",
       "      <td>1.1</td>\n",
       "      <td>THE RAINMAKERS</td>\n",
       "      <td>1.0</td>\n",
       "      <td>Angels</td>\n",
       "      <td>77.0</td>\n",
       "      <td>339.0</td>\n",
       "      <td>23.0</td>\n",
       "      <td>62.0</td>\n",
       "      <td>48.0</td>\n",
       "      <td>13.0</td>\n",
       "      <td>0.198</td>\n",
       "      <td>0.195</td>\n",
       "      <td>0.342</td>\n",
       "      <td>0.358</td>\n",
       "      <td>0.327</td>\n",
       "      <td>0.464</td>\n",
       "      <td>0.669</td>\n",
       "      <td>0.466</td>\n",
       "      <td>206</td>\n",
       "      <td>2.9</td>\n",
       "      <td>45.1</td>\n",
       "      <td>3.1</td>\n",
       "      <td>6.2</td>\n",
       "      <td>False</td>\n",
       "      <td>AL</td>\n",
       "    </tr>\n",
       "    <tr>\n",
       "      <th>1</th>\n",
       "      <td>Joey Votto</td>\n",
       "      <td>83</td>\n",
       "      <td>349</td>\n",
       "      <td>280</td>\n",
       "      <td>83</td>\n",
       "      <td>16</td>\n",
       "      <td>1</td>\n",
       "      <td>13</td>\n",
       "      <td>48</td>\n",
       "      <td>46</td>\n",
       "      <td>63</td>\n",
       "      <td>55</td>\n",
       "      <td>4</td>\n",
       "      <td>2</td>\n",
       "      <td>1</td>\n",
       "      <td>0.295</td>\n",
       "      <td>0.428</td>\n",
       "      <td>0.499</td>\n",
       "      <td>0.927</td>\n",
       "      <td>0.394</td>\n",
       "      <td>0.9</td>\n",
       "      <td>-1.4</td>\n",
       "      <td>2.3</td>\n",
       "      <td>19.2</td>\n",
       "      <td>NaN</td>\n",
       "      <td>22.0</td>\n",
       "      <td>Reds</td>\n",
       "      <td>75.0</td>\n",
       "      <td>330.0</td>\n",
       "      <td>8.0</td>\n",
       "      <td>41.0</td>\n",
       "      <td>40.0</td>\n",
       "      <td>1.0</td>\n",
       "      <td>0.170</td>\n",
       "      <td>0.152</td>\n",
       "      <td>0.160</td>\n",
       "      <td>0.341</td>\n",
       "      <td>0.299</td>\n",
       "      <td>0.427</td>\n",
       "      <td>0.459</td>\n",
       "      <td>0.388</td>\n",
       "      <td>144</td>\n",
       "      <td>-1.1</td>\n",
       "      <td>16.6</td>\n",
       "      <td>-3.4</td>\n",
       "      <td>2.4</td>\n",
       "      <td>True</td>\n",
       "      <td>NL</td>\n",
       "    </tr>\n",
       "    <tr>\n",
       "      <th>2</th>\n",
       "      <td>Giancarlo Stanton</td>\n",
       "      <td>81</td>\n",
       "      <td>342</td>\n",
       "      <td>297</td>\n",
       "      <td>80</td>\n",
       "      <td>14</td>\n",
       "      <td>1</td>\n",
       "      <td>28</td>\n",
       "      <td>55</td>\n",
       "      <td>68</td>\n",
       "      <td>38</td>\n",
       "      <td>99</td>\n",
       "      <td>4</td>\n",
       "      <td>1</td>\n",
       "      <td>1</td>\n",
       "      <td>0.268</td>\n",
       "      <td>0.357</td>\n",
       "      <td>0.603</td>\n",
       "      <td>0.960</td>\n",
       "      <td>0.393</td>\n",
       "      <td>1.6</td>\n",
       "      <td>-0.2</td>\n",
       "      <td>2.7</td>\n",
       "      <td>8.1</td>\n",
       "      <td>PLATINUM SOMBRERO</td>\n",
       "      <td>48.0</td>\n",
       "      <td>Yankees</td>\n",
       "      <td>73.0</td>\n",
       "      <td>322.0</td>\n",
       "      <td>18.0</td>\n",
       "      <td>44.0</td>\n",
       "      <td>42.0</td>\n",
       "      <td>2.0</td>\n",
       "      <td>0.084</td>\n",
       "      <td>0.320</td>\n",
       "      <td>0.242</td>\n",
       "      <td>0.315</td>\n",
       "      <td>0.249</td>\n",
       "      <td>0.323</td>\n",
       "      <td>0.491</td>\n",
       "      <td>0.345</td>\n",
       "      <td>119</td>\n",
       "      <td>1.3</td>\n",
       "      <td>8.5</td>\n",
       "      <td>0.0</td>\n",
       "      <td>2.0</td>\n",
       "      <td>False</td>\n",
       "      <td>AL</td>\n",
       "    </tr>\n",
       "    <tr>\n",
       "      <th>3</th>\n",
       "      <td>J.D. Martinez</td>\n",
       "      <td>80</td>\n",
       "      <td>334</td>\n",
       "      <td>298</td>\n",
       "      <td>88</td>\n",
       "      <td>18</td>\n",
       "      <td>1</td>\n",
       "      <td>22</td>\n",
       "      <td>50</td>\n",
       "      <td>61</td>\n",
       "      <td>32</td>\n",
       "      <td>87</td>\n",
       "      <td>2</td>\n",
       "      <td>2</td>\n",
       "      <td>1</td>\n",
       "      <td>0.294</td>\n",
       "      <td>0.364</td>\n",
       "      <td>0.586</td>\n",
       "      <td>0.950</td>\n",
       "      <td>0.393</td>\n",
       "      <td>-0.5</td>\n",
       "      <td>-0.9</td>\n",
       "      <td>2.2</td>\n",
       "      <td>22.8</td>\n",
       "      <td>DPR CORREA</td>\n",
       "      <td>12.0</td>\n",
       "      <td>Red Sox</td>\n",
       "      <td>74.0</td>\n",
       "      <td>317.0</td>\n",
       "      <td>23.0</td>\n",
       "      <td>52.0</td>\n",
       "      <td>60.0</td>\n",
       "      <td>2.0</td>\n",
       "      <td>0.098</td>\n",
       "      <td>0.233</td>\n",
       "      <td>0.316</td>\n",
       "      <td>0.369</td>\n",
       "      <td>0.326</td>\n",
       "      <td>0.394</td>\n",
       "      <td>0.642</td>\n",
       "      <td>0.433</td>\n",
       "      <td>177</td>\n",
       "      <td>-1.5</td>\n",
       "      <td>27.2</td>\n",
       "      <td>-9.4</td>\n",
       "      <td>2.9</td>\n",
       "      <td>False</td>\n",
       "      <td>AL</td>\n",
       "    </tr>\n",
       "    <tr>\n",
       "      <th>4</th>\n",
       "      <td>Freddie Freeman</td>\n",
       "      <td>83</td>\n",
       "      <td>350</td>\n",
       "      <td>296</td>\n",
       "      <td>88</td>\n",
       "      <td>20</td>\n",
       "      <td>2</td>\n",
       "      <td>16</td>\n",
       "      <td>51</td>\n",
       "      <td>51</td>\n",
       "      <td>47</td>\n",
       "      <td>71</td>\n",
       "      <td>4</td>\n",
       "      <td>5</td>\n",
       "      <td>3</td>\n",
       "      <td>0.297</td>\n",
       "      <td>0.398</td>\n",
       "      <td>0.541</td>\n",
       "      <td>0.939</td>\n",
       "      <td>0.391</td>\n",
       "      <td>1.9</td>\n",
       "      <td>0.0</td>\n",
       "      <td>2.5</td>\n",
       "      <td>21.1</td>\n",
       "      <td>NaN</td>\n",
       "      <td>7.0</td>\n",
       "      <td>Braves</td>\n",
       "      <td>75.0</td>\n",
       "      <td>338.0</td>\n",
       "      <td>15.0</td>\n",
       "      <td>48.0</td>\n",
       "      <td>51.0</td>\n",
       "      <td>6.0</td>\n",
       "      <td>0.130</td>\n",
       "      <td>0.178</td>\n",
       "      <td>0.241</td>\n",
       "      <td>0.369</td>\n",
       "      <td>0.328</td>\n",
       "      <td>0.417</td>\n",
       "      <td>0.569</td>\n",
       "      <td>0.414</td>\n",
       "      <td>163</td>\n",
       "      <td>1.0</td>\n",
       "      <td>26.7</td>\n",
       "      <td>-2.8</td>\n",
       "      <td>3.6</td>\n",
       "      <td>True</td>\n",
       "      <td>NL</td>\n",
       "    </tr>\n",
       "  </tbody>\n",
       "</table>\n",
       "</div>"
      ],
      "text/plain": [
       "                Name   G   PA   AB   H  2B  3B  HR   R  RBI  BB  SO  HBP  SB  \\\n",
       "0         Mike Trout  81  342  273  83  16   3  21  61   53  61  69    5  12   \n",
       "1         Joey Votto  83  349  280  83  16   1  13  48   46  63  55    4   2   \n",
       "2  Giancarlo Stanton  81  342  297  80  14   1  28  55   68  38  99    4   1   \n",
       "3      J.D. Martinez  80  334  298  88  18   1  22  50   61  32  87    2   2   \n",
       "4    Freddie Freeman  83  350  296  88  20   2  16  51   51  47  71    4   5   \n",
       "\n",
       "   CS    AVG    OBP    SLG    OPS   wOBA  Fld  BsR  WAR   ADP  \\\n",
       "0   3  0.303  0.436  0.609  1.045  0.430  0.0  1.8  4.7   1.1   \n",
       "1   1  0.295  0.428  0.499  0.927  0.394  0.9 -1.4  2.3  19.2   \n",
       "2   1  0.268  0.357  0.603  0.960  0.393  1.6 -0.2  2.7   8.1   \n",
       "3   1  0.294  0.364  0.586  0.950  0.393 -0.5 -0.9  2.2  22.8   \n",
       "4   3  0.297  0.398  0.541  0.939  0.391  1.9  0.0  2.5  21.1   \n",
       "\n",
       "               Squad     #     Team   G.a   PA.a  HR.a   R.a  RBI.a  SB.a  \\\n",
       "0     THE RAINMAKERS   1.0   Angels  77.0  339.0  23.0  62.0   48.0  13.0   \n",
       "1                NaN  22.0     Reds  75.0  330.0   8.0  41.0   40.0   1.0   \n",
       "2  PLATINUM SOMBRERO  48.0  Yankees  73.0  322.0  18.0  44.0   42.0   2.0   \n",
       "3         DPR CORREA  12.0  Red Sox  74.0  317.0  23.0  52.0   60.0   2.0   \n",
       "4                NaN   7.0   Braves  75.0  338.0  15.0  48.0   51.0   6.0   \n",
       "\n",
       "     BB%     K%    ISO  BABIP  AVG.a  OBP.a  SLG.a  wOBA.a wRC+  BsR.a   Off  \\\n",
       "0  0.198  0.195  0.342  0.358  0.327  0.464  0.669   0.466  206    2.9  45.1   \n",
       "1  0.170  0.152  0.160  0.341  0.299  0.427  0.459   0.388  144   -1.1  16.6   \n",
       "2  0.084  0.320  0.242  0.315  0.249  0.323  0.491   0.345  119    1.3   8.5   \n",
       "3  0.098  0.233  0.316  0.369  0.326  0.394  0.642   0.433  177   -1.5  27.2   \n",
       "4  0.130  0.178  0.241  0.369  0.328  0.417  0.569   0.414  163    1.0  26.7   \n",
       "\n",
       "   Def  WAR.a Drafted League  \n",
       "0  3.1    6.2   False     AL  \n",
       "1 -3.4    2.4    True     NL  \n",
       "2  0.0    2.0   False     AL  \n",
       "3 -9.4    2.9   False     AL  \n",
       "4 -2.8    3.6    True     NL  "
      ]
     },
     "execution_count": 286,
     "metadata": {},
     "output_type": "execute_result"
    }
   ],
   "source": [
    "dfb.head()"
   ]
  },
  {
   "cell_type": "code",
   "execution_count": 287,
   "metadata": {},
   "outputs": [
    {
     "data": {
      "text/plain": [
       "<seaborn.axisgrid.FacetGrid at 0x125169fd0>"
      ]
     },
     "execution_count": 287,
     "metadata": {},
     "output_type": "execute_result"
    },
    {
     "data": {
      "image/png": "[encoded data removed]",
      "text/plain": [
       "<matplotlib.figure.Figure at 0x1251dd5f8>"
      ]
     },
     "metadata": {},
     "output_type": "display_data"
    }
   ],
   "source": [
    "sb.lmplot(x='OBP',\n",
    "          y='OBP.a',\n",
    "          fit_reg=False,\n",
    "          hue='Drafted',\n",
    "          palette=('#404D74', '#FF7A07'),\n",
    "          data=dfb[(dfb['AB'] > 200) & (dfb['OBP.a'] > 0.1) & (dfb['League'] == 'AL')])"
   ]
  },
  {
   "cell_type": "code",
   "execution_count": null,
   "metadata": {},
   "outputs": [],
   "source": []
  },
  {
   "cell_type": "code",
   "execution_count": 275,
   "metadata": {
    "collapsed": true
   },
   "outputs": [
    {
     "data": {
      "text/plain": [
       "<seaborn.axisgrid.PairGrid at 0x124d52dd8>"
      ]
     },
     "execution_count": 275,
     "metadata": {},
     "output_type": "execute_result"
    },
    {
     "data": {
      "image/png": "[encoded data removed]",
      "text/plain": [
       "<matplotlib.figure.Figure at 0x124d52a90>"
      ]
     },
     "metadata": {},
     "output_type": "display_data"
    }
   ],
   "source": [
    "# dfb['Drafted'] = dfb['Squad'].isnull()\n",
    "\n",
    "sb.pairplot(dfb[['OBP', 'BABIP', 'ISO']].dropna())"
   ]
  }
 ],
 "metadata": {
  "kernelspec": {
   "display_name": "Python 3",
   "language": "python",
   "name": "python3"
  },
  "language_info": {
   "codemirror_mode": {
    "name": "ipython",
    "version": 3
   },
   "file_extension": ".py",
   "mimetype": "text/x-python",
   "name": "python",
   "nbconvert_exporter": "python",
   "pygments_lexer": "ipython3",
   "version": "3.6.5"
  }
 },
 "nbformat": 4,
 "nbformat_minor": 2
}
