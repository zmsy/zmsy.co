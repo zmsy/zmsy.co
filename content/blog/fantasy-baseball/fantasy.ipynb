{
 "cells": [
  {
   "cell_type": "markdown",
   "metadata": {},
   "source": [
    "# Fantasy Baseball Pandas Analysis\n",
    "\n",
    "This takes a number of inputs and produces fantasy scores for each player."
   ]
  },
  {
   "cell_type": "code",
   "execution_count": 175,
   "metadata": {},
   "outputs": [],
   "source": [
    "import requests\n",
    "import csv\n",
    "import datetime\n",
    "import subprocess\n",
    "import pandas as pd\n",
    "import numpy as np\n",
    "import seaborn as sb\n",
    "from bs4 import BeautifulSoup"
   ]
  },
  {
   "cell_type": "markdown",
   "metadata": {},
   "source": [
    "## Get Roster Data\n",
    "\n",
    "This will rip the roster information from ESPN and save it to a local CSV file."
   ]
  },
  {
   "cell_type": "code",
   "execution_count": 125,
   "metadata": {},
   "outputs": [],
   "source": [
    "LEAGUE_URL = \"http://games.espn.com/flb/leaguerosters?leagueId={league_id}\"\n",
    "LEAGUE_ID = 15594\n",
    "\n",
    "# translate ESPN names to Fangraphs names.\n",
    "# Add new names as required, since name is used to join the data sets.\n",
    "TRANSLATIONS = {\n",
    "    'Nicky Delmonico': 'Nick Delmonico',\n",
    "    'Yuli Gurriel': 'Yulieski Gurriel'\n",
    "}\n",
    "\n",
    "\n",
    "rosters_html = requests.get(LEAGUE_URL.format(league_id=LEAGUE_ID)).text\n",
    "rosters_soup = BeautifulSoup(rosters_html, \"lxml\")\n",
    "\n",
    "rosters = rosters_soup.find_all(\"table\", {'class': 'playerTableTable'})\n",
    "\n",
    "players = []\n",
    "for roster in rosters:\n",
    "    team_name = roster.find(\"a\").text\n",
    "    players_html = roster.find_all(\"td\", {'class': 'playertablePlayerName'})\n",
    "    for player in players_html:\n",
    "        # parse player info\n",
    "        player_name = player.text.split(\",\")[0]\n",
    "        player_name = player_name.replace(\"*\", \"\")\n",
    "\n",
    "        # translate player name if necessary\n",
    "        translation = TRANSLATIONS.get(player_name)\n",
    "        if translation:\n",
    "            player_name = translation\n",
    "\n",
    "        # add to output list\n",
    "        players.append([player_name, team_name])\n",
    "\n",
    "with open(\"rosters.csv\", \"w\", newline='') as out_file:\n",
    "    writer = csv.writer(out_file)\n",
    "    writer.writerow((\"Name\", \"Squad\"))\n",
    "    writer.writerows(players)"
   ]
  },
  {
   "cell_type": "markdown",
   "metadata": {},
   "source": [
    "## Get and Parse Actuals\n",
    "\n",
    "Looks through the URLs to grab batting & pitching actuals and deliver those back to the user."
   ]
  },
  {
   "cell_type": "code",
   "execution_count": 166,
   "metadata": {},
   "outputs": [],
   "source": [
    "# static urls\n",
    "season = datetime.datetime.now().year\n",
    "PITCHERS_URL = \"https://www.fangraphs.com/leaders.aspx?pos=all&stats=pit&lg=all&qual=0&type=c,36,37,38,40,-1,120,121,217,-1,24,41,42,43,44,-1,117,118,119,-1,6,45,124,-1,62,122,13&season={season}&month=0&season1={season}&ind=0&team=0&rost=0&age=0&filter=&players=0&page=1_100000\".format(season=season)\n",
    "BATTERS_URL = \"https://www.fangraphs.com/leaders.aspx?pos=all&stats=bat&lg=all&qual=0&type=8&season={season}&month=0&season1={season}&ind=0&team=0&rost=0&age=0&filter=&players=0&page=1_10000\".format(season=season)\n",
    "\n",
    "# # request the data\n",
    "pitchers_html = requests.get(PITCHERS_URL).text\n",
    "batters_html = requests.get(BATTERS_URL).text"
   ]
  },
  {
   "cell_type": "markdown",
   "metadata": {},
   "source": [
    "Now take the requests and parse out the relevant header information for each of the positions. This function will take one of the fangraphs pages as input and write out a CSV of that information once it's parsed."
   ]
  },
  {
   "cell_type": "code",
   "execution_count": 168,
   "metadata": {},
   "outputs": [],
   "source": [
    "def parse_array_from_fangraphs_html(input_html, out_file_name):\n",
    "    \"\"\"\n",
    "    Take a HTML stats page from fangraphs and parse it out to a CSV file.\n",
    "    \"\"\"\n",
    "    # parse input\n",
    "    soup = BeautifulSoup(input_html, \"lxml\")\n",
    "    table = soup.find(\"table\", {\"class\": \"rgMasterTable\"})\n",
    "    \n",
    "    # get headers\n",
    "    headers_html = table.find(\"thead\").find_all(\"th\")\n",
    "    headers = []\n",
    "    for header in headers_html:\n",
    "        headers.append(header.text)\n",
    "    \n",
    "    # get rows\n",
    "    rows = []\n",
    "    rows_html = table.find(\"tbody\").find_all(\"tr\")\n",
    "    for row in rows_html:\n",
    "        row_data = []\n",
    "        for cell in row.find_all(\"td\"):\n",
    "            row_data.append(cell.text)\n",
    "        rows.append(row_data)\n",
    "    \n",
    "    # write to CSV file\n",
    "    with open(out_file_name, \"w\") as out_file:\n",
    "        writer = csv.writer(out_file)\n",
    "        writer.writerow(headers)\n",
    "        writer.writerows(rows)"
   ]
  },
  {
   "cell_type": "markdown",
   "metadata": {},
   "source": [
    "Now that we have all of the player data, I'm writing these out to a CSV file if I want to load them again later without having to run the requests to those pages once more."
   ]
  },
  {
   "cell_type": "code",
   "execution_count": 169,
   "metadata": {},
   "outputs": [],
   "source": [
    "parse_array_from_fangraphs_html(batters_html, 'batters_actuals.csv')\n",
    "parse_array_from_fangraphs_html(pitchers_html, 'pitchers_actuals.csv')"
   ]
  },
  {
   "cell_type": "markdown",
   "metadata": {},
   "source": [
    "## Get Projections\n",
    "\n",
    "For this part, we need to call some external bash code here, because the form data is too big to reasonably bring into the script here. Check out the [original blog post](https://zmsy.co/blog/fantasy-baseball/) on how to configure this for your own purposes."
   ]
  },
  {
   "cell_type": "code",
   "execution_count": 124,
   "metadata": {},
   "outputs": [
    {
     "data": {
      "text/plain": [
       "0"
      ]
     },
     "execution_count": 124,
     "metadata": {},
     "output_type": "execute_result"
    }
   ],
   "source": [
    "subprocess.call('./get_fangraphs.sh', shell=True)"
   ]
  },
  {
   "cell_type": "markdown",
   "metadata": {},
   "source": [
    "## Read Data Into Pandas\n",
    "\n",
    "Load those CSV files using read_csv() in pandas. Since some of the percentage values are stored as strings, we need to parse those into floats."
   ]
  },
  {
   "cell_type": "code",
   "execution_count": 170,
   "metadata": {},
   "outputs": [],
   "source": [
    "df_rost = pd.read_csv('rosters.csv')\n",
    "dfb_act = pd.read_csv('batters_actuals.csv')\n",
    "dfp_act = pd.read_csv('pitchers_actuals.csv')\n",
    "\n",
    "# create a function to parse out percentage strings to floats\n",
    "def parse_pctg(value):\n",
    "    return float(value.split()[0]) / 100\n",
    "\n",
    "# apply that to all percentage values in the dataframes\n",
    "dfb_act['BB%'] = dfb_act['BB%'].apply(lambda x: parse_pctg(x))\n",
    "dfb_act['K%'] = dfb_act['K%'].apply(lambda x: parse_pctg(x))\n",
    "dfp_act['K%'] = dfp_act['K%'].apply(lambda x: parse_pctg(x))\n",
    "dfp_act['BB%'] = dfp_act['BB%'].apply(lambda x: parse_pctg(x))\n",
    "dfp_act['K-BB%'] = dfp_act['K-BB%'].apply(lambda x: parse_pctg(x))\n",
    "dfp_act['LOB%'] = dfp_act['LOB%'].apply(lambda x: parse_pctg(x))"
   ]
  },
  {
   "cell_type": "code",
   "execution_count": 172,
   "metadata": {},
   "outputs": [],
   "source": [
    "with open('batters_projections.html', 'r') as bhtml:\n",
    "    btxt = bhtml.read()\n",
    "    dfb_proj = pd.read_html(btxt)[-1]  # read_html returns ALL tables, we just want the last one.\n",
    "    dfb_proj.dropna(axis=1, inplace=True)\n",
    "\n",
    "with open('pitchers_projections.html', 'r') as phtml:\n",
    "    ptxt = phtml.read()\n",
    "    dfp_proj = pd.read_html(ptxt)[-1]\n",
    "    dfp_proj.dropna(axis=1, inplace=True)"
   ]
  },
  {
   "cell_type": "code",
   "execution_count": 173,
   "metadata": {},
   "outputs": [],
   "source": [
    "# join the datasets together. we want one\n",
    "# for batters and one for pitchers, with\n",
    "# roster information in both of them.\n",
    "\n",
    "dfb = pd.merge(dfb_proj, df_rost, how='left', on='Name', suffixes=('.p', '.r'))\n",
    "dfb = pd.merge(dfb, dfb_act, how='left', on='Name', suffixes=('', '.a'))"
   ]
  },
  {
   "cell_type": "code",
   "execution_count": 221,
   "metadata": {},
   "outputs": [
    {
     "data": {
      "text/html": [
       "<div>\n",
       "<table border=\"1\" class=\"dataframe\">\n",
       "  <thead>\n",
       "    <tr style=\"text-align: right;\">\n",
       "      <th></th>\n",
       "      <th>#</th>\n",
       "      <th>Name</th>\n",
       "      <th>Team</th>\n",
       "      <th>G</th>\n",
       "      <th>PA</th>\n",
       "      <th>HR</th>\n",
       "      <th>R</th>\n",
       "      <th>RBI</th>\n",
       "      <th>SB</th>\n",
       "      <th>BB%</th>\n",
       "      <th>K%</th>\n",
       "      <th>ISO</th>\n",
       "      <th>BABIP</th>\n",
       "      <th>AVG</th>\n",
       "      <th>OBP</th>\n",
       "      <th>SLG</th>\n",
       "      <th>wOBA</th>\n",
       "      <th>wRC+</th>\n",
       "      <th>BsR</th>\n",
       "      <th>Off</th>\n",
       "      <th>Def</th>\n",
       "      <th>WAR</th>\n",
       "    </tr>\n",
       "  </thead>\n",
       "  <tbody>\n",
       "    <tr>\n",
       "      <th>0</th>\n",
       "      <td>1</td>\n",
       "      <td>Mike Trout</td>\n",
       "      <td>Angels</td>\n",
       "      <td>77</td>\n",
       "      <td>339</td>\n",
       "      <td>23</td>\n",
       "      <td>62</td>\n",
       "      <td>48</td>\n",
       "      <td>13</td>\n",
       "      <td>0.198</td>\n",
       "      <td>0.195</td>\n",
       "      <td>0.342</td>\n",
       "      <td>0.358</td>\n",
       "      <td>0.327</td>\n",
       "      <td>0.464</td>\n",
       "      <td>0.669</td>\n",
       "      <td>0.466</td>\n",
       "      <td>206</td>\n",
       "      <td>2.9</td>\n",
       "      <td>45.1</td>\n",
       "      <td>3.1</td>\n",
       "      <td>6.2</td>\n",
       "    </tr>\n",
       "    <tr>\n",
       "      <th>1</th>\n",
       "      <td>2</td>\n",
       "      <td>Jose Ramirez</td>\n",
       "      <td>Indians</td>\n",
       "      <td>74</td>\n",
       "      <td>331</td>\n",
       "      <td>22</td>\n",
       "      <td>53</td>\n",
       "      <td>51</td>\n",
       "      <td>11</td>\n",
       "      <td>0.148</td>\n",
       "      <td>0.121</td>\n",
       "      <td>0.314</td>\n",
       "      <td>0.269</td>\n",
       "      <td>0.289</td>\n",
       "      <td>0.396</td>\n",
       "      <td>0.604</td>\n",
       "      <td>0.416</td>\n",
       "      <td>167</td>\n",
       "      <td>3.9</td>\n",
       "      <td>29.8</td>\n",
       "      <td>6.1</td>\n",
       "      <td>4.9</td>\n",
       "    </tr>\n",
       "    <tr>\n",
       "      <th>2</th>\n",
       "      <td>3</td>\n",
       "      <td>Mookie Betts</td>\n",
       "      <td>Red Sox</td>\n",
       "      <td>58</td>\n",
       "      <td>262</td>\n",
       "      <td>19</td>\n",
       "      <td>58</td>\n",
       "      <td>39</td>\n",
       "      <td>14</td>\n",
       "      <td>0.118</td>\n",
       "      <td>0.122</td>\n",
       "      <td>0.347</td>\n",
       "      <td>0.330</td>\n",
       "      <td>0.342</td>\n",
       "      <td>0.427</td>\n",
       "      <td>0.689</td>\n",
       "      <td>0.463</td>\n",
       "      <td>197</td>\n",
       "      <td>2.6</td>\n",
       "      <td>32.5</td>\n",
       "      <td>2.1</td>\n",
       "      <td>4.5</td>\n",
       "    </tr>\n",
       "    <tr>\n",
       "      <th>3</th>\n",
       "      <td>4</td>\n",
       "      <td>Francisco Lindor</td>\n",
       "      <td>Indians</td>\n",
       "      <td>74</td>\n",
       "      <td>349</td>\n",
       "      <td>18</td>\n",
       "      <td>60</td>\n",
       "      <td>42</td>\n",
       "      <td>10</td>\n",
       "      <td>0.097</td>\n",
       "      <td>0.181</td>\n",
       "      <td>0.252</td>\n",
       "      <td>0.313</td>\n",
       "      <td>0.291</td>\n",
       "      <td>0.369</td>\n",
       "      <td>0.542</td>\n",
       "      <td>0.387</td>\n",
       "      <td>146</td>\n",
       "      <td>0.0</td>\n",
       "      <td>18.9</td>\n",
       "      <td>9.2</td>\n",
       "      <td>4.1</td>\n",
       "    </tr>\n",
       "    <tr>\n",
       "      <th>4</th>\n",
       "      <td>5</td>\n",
       "      <td>Aaron Judge</td>\n",
       "      <td>Yankees</td>\n",
       "      <td>73</td>\n",
       "      <td>327</td>\n",
       "      <td>19</td>\n",
       "      <td>50</td>\n",
       "      <td>51</td>\n",
       "      <td>4</td>\n",
       "      <td>0.162</td>\n",
       "      <td>0.309</td>\n",
       "      <td>0.279</td>\n",
       "      <td>0.368</td>\n",
       "      <td>0.279</td>\n",
       "      <td>0.398</td>\n",
       "      <td>0.558</td>\n",
       "      <td>0.404</td>\n",
       "      <td>160</td>\n",
       "      <td>0.2</td>\n",
       "      <td>23.0</td>\n",
       "      <td>2.2</td>\n",
       "      <td>3.7</td>\n",
       "    </tr>\n",
       "  </tbody>\n",
       "</table>\n",
       "</div>"
      ],
      "text/plain": [
       "   #              Name     Team   G   PA  HR   R  RBI  SB    BB%     K%  \\\n",
       "0  1        Mike Trout   Angels  77  339  23  62   48  13  0.198  0.195   \n",
       "1  2      Jose Ramirez  Indians  74  331  22  53   51  11  0.148  0.121   \n",
       "2  3      Mookie Betts  Red Sox  58  262  19  58   39  14  0.118  0.122   \n",
       "3  4  Francisco Lindor  Indians  74  349  18  60   42  10  0.097  0.181   \n",
       "4  5       Aaron Judge  Yankees  73  327  19  50   51   4  0.162  0.309   \n",
       "\n",
       "     ISO  BABIP    AVG    OBP    SLG   wOBA wRC+  BsR   Off  Def  WAR  \n",
       "0  0.342  0.358  0.327  0.464  0.669  0.466  206  2.9  45.1  3.1  6.2  \n",
       "1  0.314  0.269  0.289  0.396  0.604  0.416  167  3.9  29.8  6.1  4.9  \n",
       "2  0.347  0.330  0.342  0.427  0.689  0.463  197  2.6  32.5  2.1  4.5  \n",
       "3  0.252  0.313  0.291  0.369  0.542  0.387  146  0.0  18.9  9.2  4.1  \n",
       "4  0.279  0.368  0.279  0.398  0.558  0.404  160  0.2  23.0  2.2  3.7  "
      ]
     },
     "execution_count": 221,
     "metadata": {},
     "output_type": "execute_result"
    }
   ],
   "source": [
    "dfb_act.head()"
   ]
  },
  {
   "cell_type": "code",
   "execution_count": 201,
   "metadata": {
    "collapsed": true
   },
   "outputs": [
    {
     "data": {
      "text/plain": [
       "<seaborn.axisgrid.FacetGrid at 0x11de6c2b0>"
      ]
     },
     "execution_count": 201,
     "metadata": {},
     "output_type": "execute_result"
    },
    {
     "data": {
      "image/png": "[encoded data removed]",
      "text/plain": [
       "<matplotlib.figure.Figure at 0x11e028550>"
      ]
     },
     "metadata": {},
     "output_type": "display_data"
    }
   ],
   "source": [
    "sb.lmplot(x='OBP',\n",
    "          y='OBP.a',\n",
    "          fit_reg=False,\n",
    "          legend=False,\n",
    "          data=dfb[(dfb['AB'] > 200) & (dfb['OBP.a'] > 0.1)])"
   ]
  },
  {
   "cell_type": "code",
   "execution_count": 227,
   "metadata": {},
   "outputs": [
    {
     "ename": "ValueError",
     "evalue": "all the input array dimensions except for the concatenation axis must match exactly",
     "output_type": "error",
     "traceback": [
      "\u001b[0;31m---------------------------------------------------------------------------\u001b[0m",
      "\u001b[0;31mValueError\u001b[0m                                Traceback (most recent call last)",
      "\u001b[0;32m<ipython-input-227-364dba18c5e9>\u001b[0m in \u001b[0;36m<module>\u001b[0;34m()\u001b[0m\n\u001b[0;32m----> 1\u001b[0;31m \u001b[0msb\u001b[0m\u001b[0;34m.\u001b[0m\u001b[0mkdeplot\u001b[0m\u001b[0;34m(\u001b[0m\u001b[0mdfb\u001b[0m\u001b[0;34m[\u001b[0m\u001b[0mdfb\u001b[0m\u001b[0;34m[\u001b[0m\u001b[0;34m'AB'\u001b[0m\u001b[0;34m]\u001b[0m \u001b[0;34m>\u001b[0m \u001b[0;36m200\u001b[0m\u001b[0;34m]\u001b[0m\u001b[0;34m[\u001b[0m\u001b[0;34m'RC.a'\u001b[0m\u001b[0;34m]\u001b[0m\u001b[0;34m.\u001b[0m\u001b[0mdropna\u001b[0m\u001b[0;34m(\u001b[0m\u001b[0;34m)\u001b[0m\u001b[0;34m,\u001b[0m \u001b[0mdfb\u001b[0m\u001b[0;34m.\u001b[0m\u001b[0mISO\u001b[0m\u001b[0;34m.\u001b[0m\u001b[0mdropna\u001b[0m\u001b[0;34m(\u001b[0m\u001b[0;34m)\u001b[0m\u001b[0;34m)\u001b[0m\u001b[0;34m\u001b[0m\u001b[0m\n\u001b[0m",
      "\u001b[0;32m/usr/local/lib/python3.6/site-packages/seaborn/distributions.py\u001b[0m in \u001b[0;36mkdeplot\u001b[0;34m(data, data2, shade, vertical, kernel, bw, gridsize, cut, clip, legend, cumulative, shade_lowest, ax, **kwargs)\u001b[0m\n\u001b[1;32m    598\u001b[0m         ax = _bivariate_kdeplot(x, y, shade, shade_lowest,\n\u001b[1;32m    599\u001b[0m                                 \u001b[0mkernel\u001b[0m\u001b[0;34m,\u001b[0m \u001b[0mbw\u001b[0m\u001b[0;34m,\u001b[0m \u001b[0mgridsize\u001b[0m\u001b[0;34m,\u001b[0m \u001b[0mcut\u001b[0m\u001b[0;34m,\u001b[0m \u001b[0mclip\u001b[0m\u001b[0;34m,\u001b[0m \u001b[0mlegend\u001b[0m\u001b[0;34m,\u001b[0m\u001b[0;34m\u001b[0m\u001b[0m\n\u001b[0;32m--> 600\u001b[0;31m                                 ax, **kwargs)\n\u001b[0m\u001b[1;32m    601\u001b[0m     \u001b[0;32melse\u001b[0m\u001b[0;34m:\u001b[0m\u001b[0;34m\u001b[0m\u001b[0m\n\u001b[1;32m    602\u001b[0m         ax = _univariate_kdeplot(data, shade, vertical, kernel, bw,\n",
      "\u001b[0;32m/usr/local/lib/python3.6/site-packages/seaborn/distributions.py\u001b[0m in \u001b[0;36m_bivariate_kdeplot\u001b[0;34m(x, y, filled, fill_lowest, kernel, bw, gridsize, cut, clip, axlabel, ax, **kwargs)\u001b[0m\n\u001b[1;32m    366\u001b[0m         \u001b[0mxx\u001b[0m\u001b[0;34m,\u001b[0m \u001b[0myy\u001b[0m\u001b[0;34m,\u001b[0m \u001b[0mz\u001b[0m \u001b[0;34m=\u001b[0m \u001b[0m_statsmodels_bivariate_kde\u001b[0m\u001b[0;34m(\u001b[0m\u001b[0mx\u001b[0m\u001b[0;34m,\u001b[0m \u001b[0my\u001b[0m\u001b[0;34m,\u001b[0m \u001b[0mbw\u001b[0m\u001b[0;34m,\u001b[0m \u001b[0mgridsize\u001b[0m\u001b[0;34m,\u001b[0m \u001b[0mcut\u001b[0m\u001b[0;34m,\u001b[0m \u001b[0mclip\u001b[0m\u001b[0;34m)\u001b[0m\u001b[0;34m\u001b[0m\u001b[0m\n\u001b[1;32m    367\u001b[0m     \u001b[0;32melse\u001b[0m\u001b[0;34m:\u001b[0m\u001b[0;34m\u001b[0m\u001b[0m\n\u001b[0;32m--> 368\u001b[0;31m         \u001b[0mxx\u001b[0m\u001b[0;34m,\u001b[0m \u001b[0myy\u001b[0m\u001b[0;34m,\u001b[0m \u001b[0mz\u001b[0m \u001b[0;34m=\u001b[0m \u001b[0m_scipy_bivariate_kde\u001b[0m\u001b[0;34m(\u001b[0m\u001b[0mx\u001b[0m\u001b[0;34m,\u001b[0m \u001b[0my\u001b[0m\u001b[0;34m,\u001b[0m \u001b[0mbw\u001b[0m\u001b[0;34m,\u001b[0m \u001b[0mgridsize\u001b[0m\u001b[0;34m,\u001b[0m \u001b[0mcut\u001b[0m\u001b[0;34m,\u001b[0m \u001b[0mclip\u001b[0m\u001b[0;34m)\u001b[0m\u001b[0;34m\u001b[0m\u001b[0m\n\u001b[0m\u001b[1;32m    369\u001b[0m \u001b[0;34m\u001b[0m\u001b[0m\n\u001b[1;32m    370\u001b[0m     \u001b[0;31m# Plot the contours\u001b[0m\u001b[0;34m\u001b[0m\u001b[0;34m\u001b[0m\u001b[0m\n",
      "\u001b[0;32m/usr/local/lib/python3.6/site-packages/seaborn/distributions.py\u001b[0m in \u001b[0;36m_scipy_bivariate_kde\u001b[0;34m(x, y, bw, gridsize, cut, clip)\u001b[0m\n\u001b[1;32m    420\u001b[0m \u001b[0;32mdef\u001b[0m \u001b[0m_scipy_bivariate_kde\u001b[0m\u001b[0;34m(\u001b[0m\u001b[0mx\u001b[0m\u001b[0;34m,\u001b[0m \u001b[0my\u001b[0m\u001b[0;34m,\u001b[0m \u001b[0mbw\u001b[0m\u001b[0;34m,\u001b[0m \u001b[0mgridsize\u001b[0m\u001b[0;34m,\u001b[0m \u001b[0mcut\u001b[0m\u001b[0;34m,\u001b[0m \u001b[0mclip\u001b[0m\u001b[0;34m)\u001b[0m\u001b[0;34m:\u001b[0m\u001b[0;34m\u001b[0m\u001b[0m\n\u001b[1;32m    421\u001b[0m     \u001b[0;34m\"\"\"Compute a bivariate kde using scipy.\"\"\"\u001b[0m\u001b[0;34m\u001b[0m\u001b[0m\n\u001b[0;32m--> 422\u001b[0;31m     \u001b[0mdata\u001b[0m \u001b[0;34m=\u001b[0m \u001b[0mnp\u001b[0m\u001b[0;34m.\u001b[0m\u001b[0mc_\u001b[0m\u001b[0;34m[\u001b[0m\u001b[0mx\u001b[0m\u001b[0;34m,\u001b[0m \u001b[0my\u001b[0m\u001b[0;34m]\u001b[0m\u001b[0;34m\u001b[0m\u001b[0m\n\u001b[0m\u001b[1;32m    423\u001b[0m     \u001b[0mkde\u001b[0m \u001b[0;34m=\u001b[0m \u001b[0mstats\u001b[0m\u001b[0;34m.\u001b[0m\u001b[0mgaussian_kde\u001b[0m\u001b[0;34m(\u001b[0m\u001b[0mdata\u001b[0m\u001b[0;34m.\u001b[0m\u001b[0mT\u001b[0m\u001b[0;34m)\u001b[0m\u001b[0;34m\u001b[0m\u001b[0m\n\u001b[1;32m    424\u001b[0m     \u001b[0mdata_std\u001b[0m \u001b[0;34m=\u001b[0m \u001b[0mdata\u001b[0m\u001b[0;34m.\u001b[0m\u001b[0mstd\u001b[0m\u001b[0;34m(\u001b[0m\u001b[0maxis\u001b[0m\u001b[0;34m=\u001b[0m\u001b[0;36m0\u001b[0m\u001b[0;34m,\u001b[0m \u001b[0mddof\u001b[0m\u001b[0;34m=\u001b[0m\u001b[0;36m1\u001b[0m\u001b[0;34m)\u001b[0m\u001b[0;34m\u001b[0m\u001b[0m\n",
      "\u001b[0;32m/usr/local/lib/python3.6/site-packages/numpy/lib/index_tricks.py\u001b[0m in \u001b[0;36m__getitem__\u001b[0;34m(self, key)\u001b[0m\n\u001b[1;32m    336\u001b[0m                 \u001b[0mobjs\u001b[0m\u001b[0;34m[\u001b[0m\u001b[0mk\u001b[0m\u001b[0;34m]\u001b[0m \u001b[0;34m=\u001b[0m \u001b[0mobjs\u001b[0m\u001b[0;34m[\u001b[0m\u001b[0mk\u001b[0m\u001b[0;34m]\u001b[0m\u001b[0;34m.\u001b[0m\u001b[0mastype\u001b[0m\u001b[0;34m(\u001b[0m\u001b[0mfinal_dtype\u001b[0m\u001b[0;34m)\u001b[0m\u001b[0;34m\u001b[0m\u001b[0m\n\u001b[1;32m    337\u001b[0m \u001b[0;34m\u001b[0m\u001b[0m\n\u001b[0;32m--> 338\u001b[0;31m         \u001b[0mres\u001b[0m \u001b[0;34m=\u001b[0m \u001b[0m_nx\u001b[0m\u001b[0;34m.\u001b[0m\u001b[0mconcatenate\u001b[0m\u001b[0;34m(\u001b[0m\u001b[0mtuple\u001b[0m\u001b[0;34m(\u001b[0m\u001b[0mobjs\u001b[0m\u001b[0;34m)\u001b[0m\u001b[0;34m,\u001b[0m \u001b[0maxis\u001b[0m\u001b[0;34m=\u001b[0m\u001b[0mself\u001b[0m\u001b[0;34m.\u001b[0m\u001b[0maxis\u001b[0m\u001b[0;34m)\u001b[0m\u001b[0;34m\u001b[0m\u001b[0m\n\u001b[0m\u001b[1;32m    339\u001b[0m         \u001b[0;32mreturn\u001b[0m \u001b[0mself\u001b[0m\u001b[0;34m.\u001b[0m\u001b[0m_retval\u001b[0m\u001b[0;34m(\u001b[0m\u001b[0mres\u001b[0m\u001b[0;34m)\u001b[0m\u001b[0;34m\u001b[0m\u001b[0m\n\u001b[1;32m    340\u001b[0m \u001b[0;34m\u001b[0m\u001b[0m\n",
      "\u001b[0;31mValueError\u001b[0m: all the input array dimensions except for the concatenation axis must match exactly"
     ]
    },
    {
     "data": {
      "image/png": "[encoded data removed]",
      "text/plain": [
       "<matplotlib.figure.Figure at 0x11e999160>"
      ]
     },
     "metadata": {},
     "output_type": "display_data"
    }
   ],
   "source": [
    "sb.kdeplot(dfb[dfb['AB'] > 200]['RC.a'].dropna(), dfb.ISO.dropna())"
   ]
  }
 ],
 "metadata": {
  "kernelspec": {
   "display_name": "Python 3",
   "language": "python",
   "name": "python3"
  },
  "language_info": {
   "codemirror_mode": {
    "name": "ipython",
    "version": 3
   },
   "file_extension": ".py",
   "mimetype": "text/x-python",
   "name": "python",
   "nbconvert_exporter": "python",
   "pygments_lexer": "ipython3",
   "version": "3.6.5"
  }
 },
 "nbformat": 4,
 "nbformat_minor": 2
}
