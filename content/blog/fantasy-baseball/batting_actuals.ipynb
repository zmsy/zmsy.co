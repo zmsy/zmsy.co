{
 "cells": [
  {
   "cell_type": "markdown",
   "metadata": {},
   "source": [
    "# Parse Actuals\n",
    "\n",
    "Looks through the URLs to grab batting & pitching actuals and deliver those back to the user."
   ]
  },
  {
   "cell_type": "code",
   "execution_count": 35,
   "metadata": {},
   "outputs": [],
   "source": [
    "import requests\n",
    "import csv\n",
    "import datetime\n",
    "from bs4 import BeautifulSoup"
   ]
  },
  {
   "cell_type": "code",
   "execution_count": 74,
   "metadata": {},
   "outputs": [],
   "source": [
    "# static urls\n",
    "season = datetime.datetime.now().year\n",
    "PITCHERS_URL = \"https://www.fangraphs.com/leaders.aspx?pos=all&stats=pit&lg=al&qual=y&type=c,36,37,38,40,-1,120,121,217,-1,24,41,42,43,44,-1,117,118,119,-1,6,45,124,-1,62,122,13&season={season}&month=0&season1={season}&ind=0&team=0&rost=0&age=0&filter=&players=0&page=1_100000\".format(season=season)\n",
    "BATTERS_URL = \"https://www.fangraphs.com/leaders.aspx?pos=all&stats=bat&lg=al&qual=y&type=8&season={season}&month=0&season1={season}&ind=0&team=0&rost=0&age=0&filter=&players=0&page=1_10000\".format(season=season)\n",
    "\n",
    "# # request the data\n",
    "pitchers_html = requests.get(PITCHERS_URL).text\n",
    "batters_html = requests.get(BATTERS_URL).text"
   ]
  },
  {
   "cell_type": "markdown",
   "metadata": {},
   "source": [
    "Now take the requests and parse out the relevant header information for each of the positions. This function will take one of the fangraphs pages as input and write out a CSV of that information once it's parsed."
   ]
  },
  {
   "cell_type": "code",
   "execution_count": 77,
   "metadata": {},
   "outputs": [],
   "source": [
    "def parse_array_from_fangraphs_html(input_html, out_file_name):\n",
    "    \"\"\"\n",
    "    Take a HTML stats page from fangraphs and parse it out to a CSV file.\n",
    "    \"\"\"\n",
    "    # parse input\n",
    "    soup = BeautifulSoup(input_html, \"lxml\")\n",
    "    table = soup.find(\"table\", {\"class\": \"rgMasterTable\"})\n",
    "    \n",
    "    # get headers\n",
    "    headers_html = table.find(\"thead\").find_all(\"th\")\n",
    "    headers = []\n",
    "    for header in headers_html:\n",
    "        headers.append(header.text)\n",
    "    print(headers)\n",
    "    \n",
    "    # get rows\n",
    "    rows = []\n",
    "    rows_html = table.find(\"tbody\").find_all(\"tr\")\n",
    "    for row in rows_html:\n",
    "        row_data = []\n",
    "        for cell in row.find_all(\"td\"):\n",
    "            row_data.append(cell.text)\n",
    "        rows.append(row_data)\n",
    "    \n",
    "    # write to CSV file\n",
    "    with open(out_file_name, \"w\") as out_file:\n",
    "        writer = csv.writer(out_file)\n",
    "        writer.writerow(headers)\n",
    "        writer.writerows(rows)\n",
    "        \n"
   ]
  },
  {
   "cell_type": "markdown",
   "metadata": {},
   "source": [
    "Now that we have all of the player data, I'm writing these out to a CSV file if I want to load them again later without having to run the requests to those pages once more."
   ]
  },
  {
   "cell_type": "code",
   "execution_count": 78,
   "metadata": {},
   "outputs": [
    {
     "name": "stdout",
     "output_type": "stream",
     "text": [
      "['#', 'Name', 'Team', 'G', 'PA', 'HR', 'R', 'RBI', 'SB', 'BB%', 'K%', 'ISO', 'BABIP', 'AVG', 'OBP', 'SLG', 'wOBA', 'wRC+', 'BsR', 'Off', 'Def', 'WAR']\n",
      "['#', 'Name', 'Team', 'K/9', 'BB/9', 'K/BB', 'HR/9', 'K%', 'BB%', 'K-BB%', 'SO', 'AVG', 'WHIP', 'BABIP', 'LOB%', 'ERA-', 'FIP-', 'xFIP-', 'ERA', 'FIP', 'E-F', 'xFIP', 'SIERA', 'IP']\n"
     ]
    }
   ],
   "source": [
    "parse_array_from_fangraphs_html(batters_html, 'batters_actuals.csv')\n",
    "parse_array_from_fangraphs_html(pitchers_html, 'pitchers_actuals.csv')"
   ]
  },
  {
   "cell_type": "markdown",
   "metadata": {},
   "source": [
    "Load those CSV files using read_csv() in pandas. Since some of the percentage values are stored as strings, we need to parse those into floats."
   ]
  },
  {
   "cell_type": "code",
   "execution_count": 83,
   "metadata": {},
   "outputs": [],
   "source": [
    "bdf = pd.read_csv('batters_actuals.csv')\n",
    "pdf = pd.read_csv('pitchers_actuals.csv')\n",
    "\n",
    "# create a function to parse out percentage strings to floats\n",
    "def parse_pctg(value):\n",
    "    return float(value.split()[0]) / 100"
   ]
  },
  {
   "cell_type": "code",
   "execution_count": 84,
   "metadata": {},
   "outputs": [],
   "source": [
    "# apply that to all percentage values in the dataframes\n",
    "bdf['BB%'] = bdf['BB%'].apply(lambda x: parse_pctg(x))\n",
    "bdf['K%'] = bdf['K%'].apply(lambda x: parse_pctg(x))\n",
    "pdf['K%'] = pdf['K%'].apply(lambda x: parse_pctg(x))\n",
    "pdf['BB%'] = pdf['BB%'].apply(lambda x: parse_pctg(x))\n",
    "pdf['K-BB%'] = pdf['K-BB%'].apply(lambda x: parse_pctg(x))\n",
    "pdf['LOB%'] = pdf['LOB%'].apply(lambda x: parse_pctg(x))"
   ]
  },
  {
   "cell_type": "code",
   "execution_count": 85,
   "metadata": {},
   "outputs": [
    {
     "data": {
      "text/html": [
       "<div>\n",
       "<table border=\"1\" class=\"dataframe\">\n",
       "  <thead>\n",
       "    <tr style=\"text-align: right;\">\n",
       "      <th></th>\n",
       "      <th>#</th>\n",
       "      <th>Name</th>\n",
       "      <th>Team</th>\n",
       "      <th>K/9</th>\n",
       "      <th>BB/9</th>\n",
       "      <th>K/BB</th>\n",
       "      <th>HR/9</th>\n",
       "      <th>K%</th>\n",
       "      <th>BB%</th>\n",
       "      <th>K-BB%</th>\n",
       "      <th>...</th>\n",
       "      <th>LOB%</th>\n",
       "      <th>ERA-</th>\n",
       "      <th>FIP-</th>\n",
       "      <th>xFIP-</th>\n",
       "      <th>ERA</th>\n",
       "      <th>FIP</th>\n",
       "      <th>E-F</th>\n",
       "      <th>xFIP</th>\n",
       "      <th>SIERA</th>\n",
       "      <th>IP</th>\n",
       "    </tr>\n",
       "  </thead>\n",
       "  <tbody>\n",
       "    <tr>\n",
       "      <th>0</th>\n",
       "      <td>1</td>\n",
       "      <td>Justin Verlander</td>\n",
       "      <td>Astros</td>\n",
       "      <td>10.93</td>\n",
       "      <td>1.77</td>\n",
       "      <td>6.19</td>\n",
       "      <td>0.76</td>\n",
       "      <td>0.320</td>\n",
       "      <td>0.052</td>\n",
       "      <td>0.269</td>\n",
       "      <td>...</td>\n",
       "      <td>0.889</td>\n",
       "      <td>40</td>\n",
       "      <td>61</td>\n",
       "      <td>85</td>\n",
       "      <td>1.60</td>\n",
       "      <td>2.49</td>\n",
       "      <td>-0.90</td>\n",
       "      <td>3.51</td>\n",
       "      <td>2.95</td>\n",
       "      <td>107.0</td>\n",
       "    </tr>\n",
       "    <tr>\n",
       "      <th>1</th>\n",
       "      <td>2</td>\n",
       "      <td>Corey Kluber</td>\n",
       "      <td>Indians</td>\n",
       "      <td>9.11</td>\n",
       "      <td>0.97</td>\n",
       "      <td>9.42</td>\n",
       "      <td>1.13</td>\n",
       "      <td>0.272</td>\n",
       "      <td>0.029</td>\n",
       "      <td>0.243</td>\n",
       "      <td>...</td>\n",
       "      <td>0.882</td>\n",
       "      <td>50</td>\n",
       "      <td>74</td>\n",
       "      <td>66</td>\n",
       "      <td>2.10</td>\n",
       "      <td>3.06</td>\n",
       "      <td>-0.96</td>\n",
       "      <td>2.72</td>\n",
       "      <td>2.86</td>\n",
       "      <td>111.2</td>\n",
       "    </tr>\n",
       "    <tr>\n",
       "      <th>2</th>\n",
       "      <td>3</td>\n",
       "      <td>Luis Severino</td>\n",
       "      <td>Yankees</td>\n",
       "      <td>10.58</td>\n",
       "      <td>2.24</td>\n",
       "      <td>4.73</td>\n",
       "      <td>0.52</td>\n",
       "      <td>0.302</td>\n",
       "      <td>0.064</td>\n",
       "      <td>0.238</td>\n",
       "      <td>...</td>\n",
       "      <td>0.805</td>\n",
       "      <td>54</td>\n",
       "      <td>55</td>\n",
       "      <td>71</td>\n",
       "      <td>2.24</td>\n",
       "      <td>2.33</td>\n",
       "      <td>-0.09</td>\n",
       "      <td>2.93</td>\n",
       "      <td>3.01</td>\n",
       "      <td>104.2</td>\n",
       "    </tr>\n",
       "    <tr>\n",
       "      <th>3</th>\n",
       "      <td>4</td>\n",
       "      <td>Trevor Bauer</td>\n",
       "      <td>Indians</td>\n",
       "      <td>11.78</td>\n",
       "      <td>2.94</td>\n",
       "      <td>4.00</td>\n",
       "      <td>0.42</td>\n",
       "      <td>0.318</td>\n",
       "      <td>0.079</td>\n",
       "      <td>0.238</td>\n",
       "      <td>...</td>\n",
       "      <td>0.750</td>\n",
       "      <td>58</td>\n",
       "      <td>54</td>\n",
       "      <td>74</td>\n",
       "      <td>2.44</td>\n",
       "      <td>2.24</td>\n",
       "      <td>0.20</td>\n",
       "      <td>3.03</td>\n",
       "      <td>3.04</td>\n",
       "      <td>107.0</td>\n",
       "    </tr>\n",
       "    <tr>\n",
       "      <th>4</th>\n",
       "      <td>5</td>\n",
       "      <td>Blake Snell</td>\n",
       "      <td>Rays</td>\n",
       "      <td>9.83</td>\n",
       "      <td>3.43</td>\n",
       "      <td>2.86</td>\n",
       "      <td>1.05</td>\n",
       "      <td>0.273</td>\n",
       "      <td>0.096</td>\n",
       "      <td>0.178</td>\n",
       "      <td>...</td>\n",
       "      <td>0.853</td>\n",
       "      <td>62</td>\n",
       "      <td>90</td>\n",
       "      <td>89</td>\n",
       "      <td>2.48</td>\n",
       "      <td>3.61</td>\n",
       "      <td>-1.13</td>\n",
       "      <td>3.66</td>\n",
       "      <td>3.72</td>\n",
       "      <td>94.1</td>\n",
       "    </tr>\n",
       "  </tbody>\n",
       "</table>\n",
       "<p>5 rows × 24 columns</p>\n",
       "</div>"
      ],
      "text/plain": [
       "   #              Name     Team    K/9  BB/9  K/BB  HR/9     K%    BB%  K-BB%  \\\n",
       "0  1  Justin Verlander   Astros  10.93  1.77  6.19  0.76  0.320  0.052  0.269   \n",
       "1  2      Corey Kluber  Indians   9.11  0.97  9.42  1.13  0.272  0.029  0.243   \n",
       "2  3     Luis Severino  Yankees  10.58  2.24  4.73  0.52  0.302  0.064  0.238   \n",
       "3  4      Trevor Bauer  Indians  11.78  2.94  4.00  0.42  0.318  0.079  0.238   \n",
       "4  5       Blake Snell     Rays   9.83  3.43  2.86  1.05  0.273  0.096  0.178   \n",
       "\n",
       "   ...     LOB%  ERA-  FIP-  xFIP-   ERA   FIP   E-F  xFIP  SIERA     IP  \n",
       "0  ...    0.889    40    61     85  1.60  2.49 -0.90  3.51   2.95  107.0  \n",
       "1  ...    0.882    50    74     66  2.10  3.06 -0.96  2.72   2.86  111.2  \n",
       "2  ...    0.805    54    55     71  2.24  2.33 -0.09  2.93   3.01  104.2  \n",
       "3  ...    0.750    58    54     74  2.44  2.24  0.20  3.03   3.04  107.0  \n",
       "4  ...    0.853    62    90     89  2.48  3.61 -1.13  3.66   3.72   94.1  \n",
       "\n",
       "[5 rows x 24 columns]"
      ]
     },
     "execution_count": 85,
     "metadata": {},
     "output_type": "execute_result"
    }
   ],
   "source": [
    "pdf.head()"
   ]
  }
 ],
 "metadata": {
  "kernelspec": {
   "display_name": "Python 3",
   "language": "python",
   "name": "python3"
  },
  "language_info": {
   "codemirror_mode": {
    "name": "ipython",
    "version": 3
   },
   "file_extension": ".py",
   "mimetype": "text/x-python",
   "name": "python",
   "nbconvert_exporter": "python",
   "pygments_lexer": "ipython3",
   "version": "3.6.5"
  }
 },
 "nbformat": 4,
 "nbformat_minor": 2
}
